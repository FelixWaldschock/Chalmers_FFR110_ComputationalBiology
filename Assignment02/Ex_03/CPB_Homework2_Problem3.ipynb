{
 "cells": [
  {
   "cell_type": "code",
   "execution_count": null,
   "metadata": {},
   "outputs": [],
   "source": [
    "# Computational biology FFR110 - 2024\n",
    "# Assignment 2 - Problem 3: Synchronisation\n",
    "# Fredrik Sitje, Felix Waldschock\n",
    "\n",
    "# Kuramoto Model"
   ]
  },
  {
   "cell_type": "code",
   "execution_count": null,
   "metadata": {},
   "outputs": [],
   "source": [
    "import numpy as np\n",
    "import matplotlib.pyplot as plt\n",
    "from tqdm import trange\n",
    "import scienceplots\n",
    "plt.style.use('science')\n",
    "import scipy \n"
   ]
  },
  {
   "cell_type": "code",
   "execution_count": null,
   "metadata": {},
   "outputs": [],
   "source": [
    "# Parameters\n",
    "gamma = 0.1\n",
    "\n",
    "Kvalues = []                # Coupling strength -> overwrite later\n",
    "Nvalues = [20, 100, 300, 1000]    # Number of oscillators in the system\n",
    "\n",
    "dt = 0.01\n",
    "Tend = 10\n",
    "TendSteps = int(Tend/dt)"
   ]
  },
  {
   "cell_type": "code",
   "execution_count": null,
   "metadata": {},
   "outputs": [],
   "source": [
    "def g(w):\n",
    "    global gamma\n",
    "    return (gamma / np.pi) / (w**2 + gamma**2)\n",
    "\n",
    "# Initialize the frequencies of the oscillators with a Cauchy distribution\n",
    "def initFrequencies(N, gamma):\n",
    "    samples = scipy.stats.cauchy.rvs(loc=0, scale=gamma, size=N)\n",
    "    return samples\n",
    "\n",
    "# Inintialize the phase of the oscillators between -pi/2 and pi/2\n",
    "def initializePhases(N):\n",
    "    phases = np.random.uniform(-np.pi/2, np.pi/2, N)\n",
    "    return phases\n",
    "\n",
    "criticalK = 2/(g(0)*np.pi)\n",
    "print(f'Critical K: {criticalK}')\n",
    "Kvalues.append(criticalK * 0.05)\n",
    "Kvalues.append(criticalK * 1.01)\n",
    "Kvalues.append(criticalK * 1.1)\n",
    "Kvalues.append(criticalK * 4)"
   ]
  },
  {
   "cell_type": "markdown",
   "metadata": {},
   "source": [
    "# Check if the cauchy distribution works as expected\n"
   ]
  },
  {
   "cell_type": "code",
   "execution_count": null,
   "metadata": {},
   "outputs": [],
   "source": [
    "w1 = initFrequencies(10000, gamma=0.1)\n",
    "w2 = initFrequencies(10000, gamma=0.5)\n",
    "w3 = initFrequencies(10000, gamma=1)\n",
    "\n",
    "# trow all values out that are larger than 4 or smaller than -4\n",
    "w1 = w1[(w1 < 4) & (w1 > -4)]\n",
    "w2 = w2[(w2 < 4) & (w2 > -4)]\n",
    "w3 = w3[(w3 < 4) & (w3 > -4)]\n",
    "\n",
    "# show a probability distribution of the natural frequencies\n",
    "plt.figure(figsize=(8,6))\n",
    "plt.hist(w1, bins= 1000, alpha=0.5, label='gamma=0.1', density=True)\n",
    "plt.hist(w2, bins=1000, alpha=0.5, label='gamma=0.5', density=True)\n",
    "plt.hist(w3, bins=1000, alpha=0.5, label='gamma=1', density=True)\n",
    "plt.xlim([-4,4])\n",
    "\n",
    "plt.legend()\n",
    "plt.xlabel('Natural frequency')\n",
    "plt.ylabel('Count')\n",
    "plt.title('Natural frequency distribution')\n",
    "plt.grid()\n",
    "\n",
    "# safe fig as .eps\n",
    "plt.savefig('1-3_natural_frequency_distribution.eps', format='eps')\n",
    "plt.show()"
   ]
  },
  {
   "cell_type": "markdown",
   "metadata": {},
   "source": [
    "$\\frac{d\\theta_i }{dt} = \\omega_i + \\frac{K}{N} * \\sum_{j=1}^{N} sin(\\theta_j - \\theta_i)$\n",
    "\n",
    "$d\\theta_i = {dt}(\\omega_i + \\frac{K}{N} * \\sum_{j=1}^{N} sin(\\theta_j - \\theta_i))$\n"
   ]
  },
  {
   "cell_type": "code",
   "execution_count": null,
   "metadata": {},
   "outputs": [],
   "source": [
    "# Define the Kuramoto model\n",
    "def runKuramoto(N, K):\n",
    "    global dt\n",
    "    global gamma\n",
    "    oscillators = initializePhases(N)\n",
    "    frequencies = initFrequencies(N, gamma=gamma)\n",
    "    inititalPhase = np.array(oscillators)\n",
    "    oscillators_history = np.zeros((TendSteps+1, N))\n",
    "    oscillators_history[0] = inititalPhase\n",
    "\n",
    "    K_over_N = K / N  # precompute constant\n",
    "\n",
    "    for t in range(TendSteps):\n",
    "        for i, theta_i in enumerate(oscillators):\n",
    "            sum_sin = np.sum(np.sin(oscillators - theta_i))\n",
    "            oscillators[i] += dt * (frequencies[i] + K_over_N * sum_sin)\n",
    "\n",
    "        # update the history\n",
    "        oscillators_history[t+1] = oscillators\n",
    "\n",
    "    return oscillators_history, inititalPhase\n"
   ]
  },
  {
   "cell_type": "code",
   "execution_count": null,
   "metadata": {},
   "outputs": [],
   "source": [
    "# Class to store the results\n",
    "class Result:\n",
    "    N = None\n",
    "    K = None\n",
    "    oscillationHistory = None\n",
    "    orderParameter = None\n",
    "    initialPhase = None\n",
    "\n",
    "    def __init__(self, N, K, oscillation_history, initial_phase):\n",
    "        self.N = N\n",
    "        self.K = K\n",
    "        self.oscillationHistory = oscillation_history\n",
    "        self.initialPhase = initial_phase\n"
   ]
  },
  {
   "cell_type": "code",
   "execution_count": null,
   "metadata": {},
   "outputs": [],
   "source": [
    "# simulations = np.zeros((len(Nvalues), len(Kvalues), TendSteps, max(Nvalues)))\n",
    "simulationsResults = []\n",
    "\n",
    "# run the simulation for different values of N and K\n",
    "for n in trange(len(Nvalues)):\n",
    "    for k in range(len(Kvalues)):\n",
    "        oscillators_history, initial_phase = runKuramoto(Nvalues[n], Kvalues[k])\n",
    "        # simulations[n, k] = oscillators_history\n",
    "        # create new Result\n",
    "        result = Result(Nvalues[n], Kvalues[k], oscillators_history, initial_phase)\n",
    "        simulationsResults.append(result)\n",
    "\n",
    "\n"
   ]
  },
  {
   "cell_type": "markdown",
   "metadata": {},
   "source": [
    "# now determine the order parameter from the simulation\n",
    "\n",
    "$r(t) = \\frac{1}{N} | \\sum_{j=1}^{N} cos(\\theta_j(t)) + j * sin(\\theta_j(t))|$\n"
   ]
  },
  {
   "cell_type": "code",
   "execution_count": null,
   "metadata": {},
   "outputs": [],
   "source": [
    "def order_parameter(oscillators):\n",
    "    r = []\n",
    "    # map the oscillators in between -pi and pi\n",
    "    #oscillators = (oscillators) % (2 * np.pi)\n",
    "    for t in range(len(oscillators)):\n",
    "        r.append(np.abs(np.mean(np.exp(1j * oscillators[t,:]))))\n",
    "    return r\n"
   ]
  },
  {
   "cell_type": "code",
   "execution_count": null,
   "metadata": {},
   "outputs": [],
   "source": [
    "for result in simulationsResults:\n",
    "    result.orderParameter = order_parameter(result.oscillationHistory)"
   ]
  },
  {
   "cell_type": "code",
   "execution_count": null,
   "metadata": {},
   "outputs": [],
   "source": [
    "fig, ax = plt.subplots(len(Nvalues), len(Kvalues), figsize=(10,10))\n",
    "timeVector = np.linspace(0, Tend, TendSteps+1)\n",
    "for i in range(len(Nvalues)):\n",
    "    for j in range(len(Kvalues)):\n",
    "        \n",
    "        ax[i, j].plot(timeVector, simulationsResults[i*len(Kvalues) + j].orderParameter)\n",
    "        ax[i, j].set_xlabel('t')\n",
    "        ax[i, j].set_ylabel('r(t)')\n",
    "        ax[i, j].grid()\n",
    "        ax[i, j].set_title(f'N={Nvalues[i]}, K={round(Kvalues[j], 4)}')\n",
    "        ax[i, j].set_ylim(0, 1.1)\n",
    "\n",
    "        plt.subplots_adjust(hspace=0.5, wspace=0.3)\n",
    "\n",
    "plt.suptitle('Order parameter as a function of time for different values of N and K\\n $K_{critical}$ = '+ f'{round(criticalK, 6)}')\n",
    "\n",
    "fig.savefig('1-3_order_parameter.eps', format='eps', dpi=1200)\n",
    "plt.show()\n",
    "\n"
   ]
  },
  {
   "cell_type": "markdown",
   "metadata": {},
   "source": [
    "We find that in the beginning, as the oscialltors are inititlized between $\\pi/2$ and $-\\pi/2$ that the order parameter is way above 0. For it to be around 0, at least for the large numbers of oscialltors, the initialization should be done over an range of $2*\\pi$.\n",
    "In the first column, the coupling is far below $K_c$ and due to the fact that the frequencies of the oscillators vary the coupling fades away with time.\n",
    "In the second column the dynamics for a coupling that is 5% above $K_c$ is visualised. We find that the order parameters does decrease over time, for systems with fewer oscillators, but for a large number of oscillators decreases less or less fast.\n",
    "In the final column, a system with a coupling of $4*K_c$ is visualies. One can clearly find, that the order parameter quickly increases and stays, except from some fluctuation, in this high level. Therefore one can say, that the oscillators are synchronised.\n"
   ]
  },
  {
   "cell_type": "code",
   "execution_count": null,
   "metadata": {},
   "outputs": [],
   "source": [
    "# # plot an other subplot with the initial phase and final phase of the oscillators\n",
    "# fig, ax = plt.subplots(len(Nvalues), len(Kvalues), figsize=(15,15))\n",
    "# for i in range(len(Nvalues)):\n",
    "#     for j in range(len(Kvalues)):\n",
    "#         result = simulationsResults[i*len(Kvalues) + j]\n",
    "#         initial_phase = np.mod(result.oscillationHistory[0], 2*np.pi)\n",
    "#         final_phase = np.mod(result.oscillationHistory[-1], 2*np.pi)\n",
    "#         # ax[i, j].plot(initial_phase / np.pi, label='Initial phase')\n",
    "#         # ax[i, j].plot(final_phase / np.pi, label='Final phase')\n",
    "#         ax[i, j].hist(initial_phase / np.pi, bins=int(Nvalues[i]/2), alpha=0.5, label='Initial phase')\n",
    "#         ax[i, j].hist(final_phase / np.pi, bins=int(Nvalues[i]/2), alpha=0.5, label='Final phase')\n",
    "#         ax[i, j].set_xlabel('Phase $[\\pi]$')    \n",
    "#         # ax[i, j].set_xlabel('Oscillator index')\n",
    "#         # ax[i, j].set_ylabel('Phase $[\\pi]$' )\n",
    "#         ax[i, j].grid()\n",
    "#         ax[i, j].set_title(f'N={Nvalues[i]}, K={round(Kvalues[j], 4)}')\n",
    "#         ax[i, j].legend(loc='upper right')\n",
    "#         plt.subplots_adjust(hspace=0.4, wspace=0.3)\n",
    "#     plt.suptitle('Initial and final phase of the oscillators for different values of N and K')\n",
    "# plt.show()\n",
    "\n",
    "# # save figure as eps\n",
    "# fig.savefig('initial_final_phase.eps', format='eps', dpi=1200)"
   ]
  },
  {
   "cell_type": "code",
   "execution_count": null,
   "metadata": {},
   "outputs": [],
   "source": [
    "# # do the same simulation for a fixed N and a linspace of K from 0 to 4 with 200 points\n",
    "# Nvalues1 = [1000]\n",
    "# K0 = 0\n",
    "# KStop = 2 * criticalK\n",
    "# Kvalues1 = np.linspace(K0, KStop, 20)\n",
    "\n",
    "# # simulations = np.zeros((len(Nvalues), len(Kvalues), TendSteps, max(Nvalues)))\n",
    "# simulationsResults2 = []\n",
    "\n",
    "# # run the simulation for different values of N and K\n",
    "# for n in range(len(Nvalues1)):\n",
    "#     for k in trange(len(Kvalues1)):\n",
    "#         oscillators_history, initial_phase = runKuramoto(Nvalues1[n], Kvalues1[k])\n",
    "#         # simulations[n, k] = oscillators_history\n",
    "#         # create new Result\n",
    "#         result = Result(Nvalues1[n], Kvalues1[k], oscillators_history, initial_phase)\n",
    "#         simulationsResults2.append(result)\n",
    "\n",
    "# # calculate the order parameter for each simulation\n",
    "# for result in simulationsResults2:\n",
    "#     result.orderParameter = order_parameter(result.oscillationHistory)\n",
    "\n",
    "# order_parameterS = [result.orderParameter[-1] for result in simulationsResults2]\n",
    "\n"
   ]
  },
  {
   "cell_type": "code",
   "execution_count": null,
   "metadata": {},
   "outputs": [],
   "source": [
    "\n",
    "# plt.figure(figsize=(10,5))\n",
    "# plt.plot(Kvalues1, order_parameterS)\n",
    "# plt.xlabel('K')\n",
    "# plt.ylabel('Order parameter $r$')\n",
    "# plt.title('Order parameter as a function of K for fixed N = '+ f'{Nvalues[0]}')\n",
    "# plt.grid()\n",
    "# plt.axvline(x=criticalK, color='r', linestyle='--', label='$K_{critical}$')\n",
    "# plt.show()\n",
    "\n",
    "# # save figure as eps\n",
    "# plt.savefig('order_parameter_fixed_N.eps', format='eps', dpi=1200)\n"
   ]
  }
 ],
 "metadata": {
  "kernelspec": {
   "display_name": "Python 3",
   "language": "python",
   "name": "python3"
  },
  "language_info": {
   "codemirror_mode": {
    "name": "ipython",
    "version": 3
   },
   "file_extension": ".py",
   "mimetype": "text/x-python",
   "name": "python",
   "nbconvert_exporter": "python",
   "pygments_lexer": "ipython3",
   "version": "3.11.7"
  }
 },
 "nbformat": 4,
 "nbformat_minor": 2
}
