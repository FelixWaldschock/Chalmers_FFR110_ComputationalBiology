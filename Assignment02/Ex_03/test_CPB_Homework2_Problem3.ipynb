import numpy as np

def test_order_parameter():
    oscillators = np.array([[1, -1, 1, -1], [-1, 1, -1, 1], [1, -1, 1, -1]])
    expected_result = [0, 0, 0]
    result = order_parameter(oscillators)
    assert np.allclose(result, expected_result), "Test failed: order_parameter() did not return 0 when all oscillators are canceling each other out"
    print("All tests passed!")

test_order_parameter()